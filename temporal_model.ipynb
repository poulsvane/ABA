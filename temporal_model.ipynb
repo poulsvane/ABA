{
 "cells": [
  {
   "cell_type": "code",
   "id": "7015369fe7833d99",
   "metadata": {
    "collapsed": true,
    "ExecuteTime": {
     "end_time": "2024-05-06T18:08:47.519256Z",
     "start_time": "2024-05-06T18:08:47.504233Z"
    }
   },
   "source": [
    "import pandas as pd\n",
    "import numpy as np\n",
    "import matplotlib.pyplot as plt\n",
    "import seaborn as sns\n"
   ],
   "outputs": [],
   "execution_count": 2
  },
  {
   "metadata": {
    "ExecuteTime": {
     "end_time": "2024-05-06T18:08:49.269053Z",
     "start_time": "2024-05-06T18:08:47.538282Z"
    }
   },
   "cell_type": "code",
   "source": [
    "\n",
    "data = pd.read_csv('EVChargingStationUsage.csv')"
   ],
   "id": "initial_id",
   "outputs": [
    {
     "name": "stderr",
     "output_type": "stream",
     "text": [
      "C:\\Users\\s153529\\AppData\\Local\\Temp\\ipykernel_27176\\422452095.py:1: DtypeWarning: Columns (29,30,32) have mixed types. Specify dtype option on import or set low_memory=False.\n",
      "  data = pd.read_csv('EVChargingStationUsage.csv')\n"
     ]
    }
   ],
   "execution_count": 3
  },
  {
   "metadata": {
    "ExecuteTime": {
     "end_time": "2024-05-06T18:08:49.300603Z",
     "start_time": "2024-05-06T18:08:49.270060Z"
    }
   },
   "cell_type": "code",
   "source": [
    "#function to extract the entity based on the first word following \"PALO ALTO CA /\"\n",
    "def extract_entity(station_name):\n",
    "    parts = station_name.split('/')\n",
    "    if len(parts) > 1:\n",
    "        # Take the part after \"PALO ALTO CA /\" and then take the first word\n",
    "        return parts[1].strip().split(' ')[0]\n",
    "    else:\n",
    "        # If the station name does not follow the expected format, return the original\n",
    "        return station_name\n",
    "\n",
    "# Function to create lagged features\n",
    "def buildLaggedFeatures(s, lag=30, dropna=True):\n",
    "    df = pd.concat([s.shift(i) for i in range(lag + 1)], axis=1)\n",
    "    df.columns = ['lag_{}'.format(i) if i != 0 else s.name for i in range(lag + 1)]\n",
    "    if dropna:\n",
    "        df = df.dropna()\n",
    "    return df\n"
   ],
   "id": "152f7da8a49abe8f",
   "outputs": [],
   "execution_count": 4
  },
  {
   "metadata": {
    "ExecuteTime": {
     "end_time": "2024-05-06T18:08:49.800874Z",
     "start_time": "2024-05-06T18:08:49.301606Z"
    }
   },
   "cell_type": "code",
   "source": [
    "data[\"Normalized Station Name\"] = data[\"Station Name\"].str.split(pat=\" / | #| [0-9]\").apply(lambda col: col[1])\n",
    "data = data.dropna(subset=['Normalized Station Name'])"
   ],
   "id": "fd8ed4701ba588e4",
   "outputs": [],
   "execution_count": 5
  },
  {
   "metadata": {
    "ExecuteTime": {
     "end_time": "2024-05-06T18:08:49.832423Z",
     "start_time": "2024-05-06T18:08:49.802875Z"
    }
   },
   "cell_type": "code",
   "source": "stations = data['Normalized Station Name'].unique()",
   "id": "f32bd54625d5a061",
   "outputs": [],
   "execution_count": 6
  },
  {
   "metadata": {
    "ExecuteTime": {
     "end_time": "2024-05-06T18:08:49.863974Z",
     "start_time": "2024-05-06T18:08:49.833425Z"
    }
   },
   "cell_type": "code",
   "source": "data.head()",
   "id": "6d61b7e04770c7fc",
   "outputs": [
    {
     "data": {
      "text/plain": [
       "                 Station Name          MAC Address           Org Name  \\\n",
       "0  PALO ALTO CA / HAMILTON #1  000D:6F00:015A:9D76  City of Palo Alto   \n",
       "1  PALO ALTO CA / HAMILTON #1  000D:6F00:015A:9D76  City of Palo Alto   \n",
       "2  PALO ALTO CA / HAMILTON #1  000D:6F00:015A:9D76  City of Palo Alto   \n",
       "3  PALO ALTO CA / HAMILTON #1  000D:6F00:015A:9D76  City of Palo Alto   \n",
       "4  PALO ALTO CA / HAMILTON #1  000D:6F00:015A:9D76  City of Palo Alto   \n",
       "\n",
       "        Start Date Start Time Zone         End Date End Time Zone  \\\n",
       "0  7/29/2011 20:17             PDT  7/29/2011 23:20           PDT   \n",
       "1   7/30/2011 0:00             PDT   7/30/2011 0:02           PDT   \n",
       "2   7/30/2011 8:16             PDT  7/30/2011 12:34           PDT   \n",
       "3  7/30/2011 14:51             PDT  7/30/2011 16:55           PDT   \n",
       "4  7/30/2011 18:51             PDT  7/30/2011 20:03           PDT   \n",
       "\n",
       "  Transaction Date (Pacific Time) Total Duration (hh:mm:ss)  \\\n",
       "0                 7/29/2011 23:20                   3:03:32   \n",
       "1                  7/30/2011 0:02                   0:02:06   \n",
       "2                 7/30/2011 12:34                   4:17:32   \n",
       "3                 7/30/2011 16:55                   2:03:24   \n",
       "4                 7/30/2011 20:03                   1:11:24   \n",
       "\n",
       "  Charging Time (hh:mm:ss)  ...  Currency  Fee             Ended By  \\\n",
       "0                  1:54:03  ...       USD  0.0  Plug Out at Vehicle   \n",
       "1                  0:01:54  ...       USD  0.0             Customer   \n",
       "2                  4:17:28  ...       USD  0.0  Plug Out at Vehicle   \n",
       "3                  2:02:58  ...       USD  0.0             Customer   \n",
       "4                  0:43:54  ...       USD  0.0  Plug Out at Vehicle   \n",
       "\n",
       "  Plug In Event Id  Driver Postal Code User ID  County System S/N  \\\n",
       "0                3             95124.0  3284.0     NaN        NaN   \n",
       "1                4             94301.0  4169.0     NaN        NaN   \n",
       "2                5             94301.0  4169.0     NaN        NaN   \n",
       "3                6             94302.0  2545.0     NaN        NaN   \n",
       "4                7             94043.0  3765.0     NaN        NaN   \n",
       "\n",
       "  Model Number Normalized Station Name  \n",
       "0          NaN                HAMILTON  \n",
       "1          NaN                HAMILTON  \n",
       "2          NaN                HAMILTON  \n",
       "3          NaN                HAMILTON  \n",
       "4          NaN                HAMILTON  \n",
       "\n",
       "[5 rows x 34 columns]"
      ],
      "text/html": [
       "<div>\n",
       "<style scoped>\n",
       "    .dataframe tbody tr th:only-of-type {\n",
       "        vertical-align: middle;\n",
       "    }\n",
       "\n",
       "    .dataframe tbody tr th {\n",
       "        vertical-align: top;\n",
       "    }\n",
       "\n",
       "    .dataframe thead th {\n",
       "        text-align: right;\n",
       "    }\n",
       "</style>\n",
       "<table border=\"1\" class=\"dataframe\">\n",
       "  <thead>\n",
       "    <tr style=\"text-align: right;\">\n",
       "      <th></th>\n",
       "      <th>Station Name</th>\n",
       "      <th>MAC Address</th>\n",
       "      <th>Org Name</th>\n",
       "      <th>Start Date</th>\n",
       "      <th>Start Time Zone</th>\n",
       "      <th>End Date</th>\n",
       "      <th>End Time Zone</th>\n",
       "      <th>Transaction Date (Pacific Time)</th>\n",
       "      <th>Total Duration (hh:mm:ss)</th>\n",
       "      <th>Charging Time (hh:mm:ss)</th>\n",
       "      <th>...</th>\n",
       "      <th>Currency</th>\n",
       "      <th>Fee</th>\n",
       "      <th>Ended By</th>\n",
       "      <th>Plug In Event Id</th>\n",
       "      <th>Driver Postal Code</th>\n",
       "      <th>User ID</th>\n",
       "      <th>County</th>\n",
       "      <th>System S/N</th>\n",
       "      <th>Model Number</th>\n",
       "      <th>Normalized Station Name</th>\n",
       "    </tr>\n",
       "  </thead>\n",
       "  <tbody>\n",
       "    <tr>\n",
       "      <th>0</th>\n",
       "      <td>PALO ALTO CA / HAMILTON #1</td>\n",
       "      <td>000D:6F00:015A:9D76</td>\n",
       "      <td>City of Palo Alto</td>\n",
       "      <td>7/29/2011 20:17</td>\n",
       "      <td>PDT</td>\n",
       "      <td>7/29/2011 23:20</td>\n",
       "      <td>PDT</td>\n",
       "      <td>7/29/2011 23:20</td>\n",
       "      <td>3:03:32</td>\n",
       "      <td>1:54:03</td>\n",
       "      <td>...</td>\n",
       "      <td>USD</td>\n",
       "      <td>0.0</td>\n",
       "      <td>Plug Out at Vehicle</td>\n",
       "      <td>3</td>\n",
       "      <td>95124.0</td>\n",
       "      <td>3284.0</td>\n",
       "      <td>NaN</td>\n",
       "      <td>NaN</td>\n",
       "      <td>NaN</td>\n",
       "      <td>HAMILTON</td>\n",
       "    </tr>\n",
       "    <tr>\n",
       "      <th>1</th>\n",
       "      <td>PALO ALTO CA / HAMILTON #1</td>\n",
       "      <td>000D:6F00:015A:9D76</td>\n",
       "      <td>City of Palo Alto</td>\n",
       "      <td>7/30/2011 0:00</td>\n",
       "      <td>PDT</td>\n",
       "      <td>7/30/2011 0:02</td>\n",
       "      <td>PDT</td>\n",
       "      <td>7/30/2011 0:02</td>\n",
       "      <td>0:02:06</td>\n",
       "      <td>0:01:54</td>\n",
       "      <td>...</td>\n",
       "      <td>USD</td>\n",
       "      <td>0.0</td>\n",
       "      <td>Customer</td>\n",
       "      <td>4</td>\n",
       "      <td>94301.0</td>\n",
       "      <td>4169.0</td>\n",
       "      <td>NaN</td>\n",
       "      <td>NaN</td>\n",
       "      <td>NaN</td>\n",
       "      <td>HAMILTON</td>\n",
       "    </tr>\n",
       "    <tr>\n",
       "      <th>2</th>\n",
       "      <td>PALO ALTO CA / HAMILTON #1</td>\n",
       "      <td>000D:6F00:015A:9D76</td>\n",
       "      <td>City of Palo Alto</td>\n",
       "      <td>7/30/2011 8:16</td>\n",
       "      <td>PDT</td>\n",
       "      <td>7/30/2011 12:34</td>\n",
       "      <td>PDT</td>\n",
       "      <td>7/30/2011 12:34</td>\n",
       "      <td>4:17:32</td>\n",
       "      <td>4:17:28</td>\n",
       "      <td>...</td>\n",
       "      <td>USD</td>\n",
       "      <td>0.0</td>\n",
       "      <td>Plug Out at Vehicle</td>\n",
       "      <td>5</td>\n",
       "      <td>94301.0</td>\n",
       "      <td>4169.0</td>\n",
       "      <td>NaN</td>\n",
       "      <td>NaN</td>\n",
       "      <td>NaN</td>\n",
       "      <td>HAMILTON</td>\n",
       "    </tr>\n",
       "    <tr>\n",
       "      <th>3</th>\n",
       "      <td>PALO ALTO CA / HAMILTON #1</td>\n",
       "      <td>000D:6F00:015A:9D76</td>\n",
       "      <td>City of Palo Alto</td>\n",
       "      <td>7/30/2011 14:51</td>\n",
       "      <td>PDT</td>\n",
       "      <td>7/30/2011 16:55</td>\n",
       "      <td>PDT</td>\n",
       "      <td>7/30/2011 16:55</td>\n",
       "      <td>2:03:24</td>\n",
       "      <td>2:02:58</td>\n",
       "      <td>...</td>\n",
       "      <td>USD</td>\n",
       "      <td>0.0</td>\n",
       "      <td>Customer</td>\n",
       "      <td>6</td>\n",
       "      <td>94302.0</td>\n",
       "      <td>2545.0</td>\n",
       "      <td>NaN</td>\n",
       "      <td>NaN</td>\n",
       "      <td>NaN</td>\n",
       "      <td>HAMILTON</td>\n",
       "    </tr>\n",
       "    <tr>\n",
       "      <th>4</th>\n",
       "      <td>PALO ALTO CA / HAMILTON #1</td>\n",
       "      <td>000D:6F00:015A:9D76</td>\n",
       "      <td>City of Palo Alto</td>\n",
       "      <td>7/30/2011 18:51</td>\n",
       "      <td>PDT</td>\n",
       "      <td>7/30/2011 20:03</td>\n",
       "      <td>PDT</td>\n",
       "      <td>7/30/2011 20:03</td>\n",
       "      <td>1:11:24</td>\n",
       "      <td>0:43:54</td>\n",
       "      <td>...</td>\n",
       "      <td>USD</td>\n",
       "      <td>0.0</td>\n",
       "      <td>Plug Out at Vehicle</td>\n",
       "      <td>7</td>\n",
       "      <td>94043.0</td>\n",
       "      <td>3765.0</td>\n",
       "      <td>NaN</td>\n",
       "      <td>NaN</td>\n",
       "      <td>NaN</td>\n",
       "      <td>HAMILTON</td>\n",
       "    </tr>\n",
       "  </tbody>\n",
       "</table>\n",
       "<p>5 rows × 34 columns</p>\n",
       "</div>"
      ]
     },
     "execution_count": 7,
     "metadata": {},
     "output_type": "execute_result"
    }
   ],
   "execution_count": 7
  },
  {
   "metadata": {
    "ExecuteTime": {
     "end_time": "2024-05-06T18:08:50.299111Z",
     "start_time": "2024-05-06T18:08:49.864975Z"
    }
   },
   "cell_type": "code",
   "source": [
    "def secondTransform(x: str) -> int:\n",
    "    h, m, s = x.split(\":\")\n",
    "    return int(h) * 3600 + int(m) * 60 + int(s)\n",
    "\n",
    "data[\"Total Duration s\"] = data[\"Total Duration (hh:mm:ss)\"].apply(lambda x: secondTransform(x))\n",
    "data[\"Charging Time s\"] = data[\"Charging Time (hh:mm:ss)\"].apply(lambda x: secondTransform(x))\n",
    "data[\"Idle Time s\"] = data['Total Duration s']-data[\"Charging Time s\"]\n"
   ],
   "id": "f7b1c806f0edc42a",
   "outputs": [],
   "execution_count": 8
  },
  {
   "metadata": {
    "ExecuteTime": {
     "end_time": "2024-05-06T18:08:51.083322Z",
     "start_time": "2024-05-06T18:08:50.302116Z"
    }
   },
   "cell_type": "code",
   "source": [
    "data[\"Transaction Date (Pacific Time)\"] = pd.to_datetime(data[\"Transaction Date (Pacific Time)\"], format=\"%m/%d/%Y %H:%M\", errors='coerce')\n",
    "data.dropna(subset=['Transaction Date (Pacific Time)'], inplace=True)"
   ],
   "id": "9586f08ddaf2b477",
   "outputs": [],
   "execution_count": 9
  },
  {
   "metadata": {
    "ExecuteTime": {
     "end_time": "2024-05-06T18:08:51.358787Z",
     "start_time": "2024-05-06T18:08:51.085321Z"
    }
   },
   "cell_type": "code",
   "source": [
    "piv_data = pd.pivot_table(data, values=\"Energy (kWh)\", index=\"Transaction Date (Pacific Time)\", columns= \"Normalized Station Name\", aggfunc=np.sum, fill_value=0)\n",
    "piv_data.reset_index(inplace=True)"
   ],
   "id": "9faad5efad4a21a9",
   "outputs": [],
   "execution_count": 10
  },
  {
   "metadata": {
    "ExecuteTime": {
     "end_time": "2024-05-06T18:08:51.467453Z",
     "start_time": "2024-05-06T18:08:51.359789Z"
    }
   },
   "cell_type": "code",
   "source": "df = piv_data.assign(timestamp=pd.to_datetime(piv_data[\"Transaction Date (Pacific Time)\"]).dt.date).groupby('timestamp', as_index=False).sum()",
   "id": "7230141511604c09",
   "outputs": [],
   "execution_count": 11
  },
  {
   "metadata": {
    "ExecuteTime": {
     "end_time": "2024-05-06T18:08:51.482996Z",
     "start_time": "2024-05-06T18:08:51.468961Z"
    }
   },
   "cell_type": "code",
   "source": "plotting_data = df.iloc[30:]",
   "id": "b3f79505e595b9a2",
   "outputs": [],
   "execution_count": 12
  },
  {
   "metadata": {
    "ExecuteTime": {
     "end_time": "2024-05-06T18:08:51.499023Z",
     "start_time": "2024-05-06T18:08:51.483997Z"
    }
   },
   "cell_type": "code",
   "source": "plotting_data[[\"timestamp\", \"HAMILTON\"]]",
   "id": "b701c836c628f394",
   "outputs": [
    {
     "data": {
      "text/plain": [
       "Normalized Station Name   timestamp   HAMILTON\n",
       "30                       2011-08-28  24.390405\n",
       "31                       2011-08-29  34.526345\n",
       "32                       2011-08-30  24.120799\n",
       "33                       2011-08-31  39.792270\n",
       "34                       2011-09-01  27.460373\n",
       "...                             ...        ...\n",
       "3440                     2020-12-29   0.000000\n",
       "3441                     2020-12-30   0.000000\n",
       "3442                     2020-12-31   0.000000\n",
       "3443                     2021-01-01   0.000000\n",
       "3444                     2021-01-04   0.000000\n",
       "\n",
       "[3415 rows x 2 columns]"
      ],
      "text/html": [
       "<div>\n",
       "<style scoped>\n",
       "    .dataframe tbody tr th:only-of-type {\n",
       "        vertical-align: middle;\n",
       "    }\n",
       "\n",
       "    .dataframe tbody tr th {\n",
       "        vertical-align: top;\n",
       "    }\n",
       "\n",
       "    .dataframe thead th {\n",
       "        text-align: right;\n",
       "    }\n",
       "</style>\n",
       "<table border=\"1\" class=\"dataframe\">\n",
       "  <thead>\n",
       "    <tr style=\"text-align: right;\">\n",
       "      <th>Normalized Station Name</th>\n",
       "      <th>timestamp</th>\n",
       "      <th>HAMILTON</th>\n",
       "    </tr>\n",
       "  </thead>\n",
       "  <tbody>\n",
       "    <tr>\n",
       "      <th>30</th>\n",
       "      <td>2011-08-28</td>\n",
       "      <td>24.390405</td>\n",
       "    </tr>\n",
       "    <tr>\n",
       "      <th>31</th>\n",
       "      <td>2011-08-29</td>\n",
       "      <td>34.526345</td>\n",
       "    </tr>\n",
       "    <tr>\n",
       "      <th>32</th>\n",
       "      <td>2011-08-30</td>\n",
       "      <td>24.120799</td>\n",
       "    </tr>\n",
       "    <tr>\n",
       "      <th>33</th>\n",
       "      <td>2011-08-31</td>\n",
       "      <td>39.792270</td>\n",
       "    </tr>\n",
       "    <tr>\n",
       "      <th>34</th>\n",
       "      <td>2011-09-01</td>\n",
       "      <td>27.460373</td>\n",
       "    </tr>\n",
       "    <tr>\n",
       "      <th>...</th>\n",
       "      <td>...</td>\n",
       "      <td>...</td>\n",
       "    </tr>\n",
       "    <tr>\n",
       "      <th>3440</th>\n",
       "      <td>2020-12-29</td>\n",
       "      <td>0.000000</td>\n",
       "    </tr>\n",
       "    <tr>\n",
       "      <th>3441</th>\n",
       "      <td>2020-12-30</td>\n",
       "      <td>0.000000</td>\n",
       "    </tr>\n",
       "    <tr>\n",
       "      <th>3442</th>\n",
       "      <td>2020-12-31</td>\n",
       "      <td>0.000000</td>\n",
       "    </tr>\n",
       "    <tr>\n",
       "      <th>3443</th>\n",
       "      <td>2021-01-01</td>\n",
       "      <td>0.000000</td>\n",
       "    </tr>\n",
       "    <tr>\n",
       "      <th>3444</th>\n",
       "      <td>2021-01-04</td>\n",
       "      <td>0.000000</td>\n",
       "    </tr>\n",
       "  </tbody>\n",
       "</table>\n",
       "<p>3415 rows × 2 columns</p>\n",
       "</div>"
      ]
     },
     "execution_count": 13,
     "metadata": {},
     "output_type": "execute_result"
    }
   ],
   "execution_count": 13
  },
  {
   "metadata": {
    "jupyter": {
     "is_executing": true
    },
    "ExecuteTime": {
     "start_time": "2024-05-06T18:08:59.669481Z"
    }
   },
   "cell_type": "code",
   "source": [
    "plt.plot(plotting_data[\"HAMILTON\"])\n",
    "plt.show()"
   ],
   "id": "c56db0ca7e27fdf1",
   "outputs": [],
   "execution_count": null
  },
  {
   "metadata": {
    "ExecuteTime": {
     "end_time": "2024-05-06T17:59:57.902495Z",
     "start_time": "2024-05-06T17:59:57.880464Z"
    }
   },
   "cell_type": "code",
   "source": [
    "plt.plot(plotting_data[\"MPL\"])\n",
    "plt.show()"
   ],
   "id": "733aec4cee0ed41c",
   "outputs": [
    {
     "ename": "NameError",
     "evalue": "name 'plt' is not defined",
     "output_type": "error",
     "traceback": [
      "\u001B[1;31m---------------------------------------------------------------------------\u001B[0m",
      "\u001B[1;31mNameError\u001B[0m                                 Traceback (most recent call last)",
      "Cell \u001B[1;32mIn[2], line 1\u001B[0m\n\u001B[1;32m----> 1\u001B[0m \u001B[43mplt\u001B[49m\u001B[38;5;241m.\u001B[39mplot(plotting_data[\u001B[38;5;124m\"\u001B[39m\u001B[38;5;124mMPL\u001B[39m\u001B[38;5;124m\"\u001B[39m])\n\u001B[0;32m      2\u001B[0m plt\u001B[38;5;241m.\u001B[39mshow()\n",
      "\u001B[1;31mNameError\u001B[0m: name 'plt' is not defined"
     ]
    }
   ],
   "execution_count": 2
  },
  {
   "metadata": {
    "jupyter": {
     "is_executing": true
    },
    "ExecuteTime": {
     "start_time": "2024-05-06T17:57:05.019683Z"
    }
   },
   "cell_type": "code",
   "source": [
    "#fig, ax = plt.subplots(1,1, figsize=(10,5))\n",
    "#sns.lineplot(ax=ax, data=plotting_data, x=\"timestamp\", y=\"HAMILTON\")\n",
    "plt.plot(plotting_data[\"timestamp\"].dt.strftime('%Y-%m-%d'), plotting_data[\"HAMILTON\"])\n",
    "plt.show()"
   ],
   "id": "eed9b1b94915e925",
   "outputs": [],
   "execution_count": null
  },
  {
   "metadata": {},
   "cell_type": "code",
   "outputs": [],
   "execution_count": null,
   "source": [
    "\n",
    "# Training\n",
    "lagged_features_hamilton = buildLaggedFeatures_off(daily_energy_hamilton, lag=30, offset=30)\n",
    "train_data_hamilton = lagged_features_hamilton.iloc[:-30]  \n",
    "test_data_hamilton = lagged_features_hamilton.iloc[-30:]   "
   ],
   "id": "c0d598f604929e64"
  }
 ],
 "metadata": {
  "kernelspec": {
   "display_name": "Python 3",
   "language": "python",
   "name": "python3"
  },
  "language_info": {
   "codemirror_mode": {
    "name": "ipython",
    "version": 2
   },
   "file_extension": ".py",
   "mimetype": "text/x-python",
   "name": "python",
   "nbconvert_exporter": "python",
   "pygments_lexer": "ipython2",
   "version": "2.7.6"
  }
 },
 "nbformat": 4,
 "nbformat_minor": 5
}
