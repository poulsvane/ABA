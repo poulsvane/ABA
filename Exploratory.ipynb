{
 "cells": [
  {
   "cell_type": "code",
   "id": "initial_id",
   "metadata": {
    "collapsed": true,
    "ExecuteTime": {
     "end_time": "2024-05-06T18:10:08.850852Z",
     "start_time": "2024-05-06T18:10:08.832827Z"
    }
   },
   "source": [
    "import pandas as pd\n",
    "import numpy as np\n",
    "import matplotlib.pyplot as plt\n",
    "import seaborn as sns\n",
    "#import geopandas as gpd\n",
    "\n",
    "sns.set_theme()"
   ],
   "outputs": [],
   "execution_count": 4
  },
  {
   "cell_type": "code",
   "source": [
    "df = pd.read_csv(\"palo_alto_old_cleaned.csv\", low_memory=False)\n",
    "df.head()"
   ],
   "metadata": {
    "collapsed": false,
    "ExecuteTime": {
     "end_time": "2024-05-06T18:10:10.752951Z",
     "start_time": "2024-05-06T18:10:08.918447Z"
    }
   },
   "id": "6d3170837c556b22",
   "outputs": [
    {
     "data": {
      "text/plain": [
       "   Unnamed: 0                   Plug Name          MAC Address  \\\n",
       "0           0  PALO ALTO CA / HAMILTON #1  000D:6F00:015A:9D76   \n",
       "1           1  PALO ALTO CA / HAMILTON #1  000D:6F00:015A:9D76   \n",
       "2           2  PALO ALTO CA / HAMILTON #1  000D:6F00:015A:9D76   \n",
       "3           3  PALO ALTO CA / HAMILTON #1  000D:6F00:015A:9D76   \n",
       "4           4  PALO ALTO CA / HAMILTON #1  000D:6F00:015A:9D76   \n",
       "\n",
       "            Org Name       Start Date Start Time Zone         End Date  \\\n",
       "0  City of Palo Alto  7/29/2011 20:17             PDT  7/29/2011 23:20   \n",
       "1  City of Palo Alto   7/30/2011 0:00             PDT   7/30/2011 0:02   \n",
       "2  City of Palo Alto   7/30/2011 8:16             PDT  7/30/2011 12:34   \n",
       "3  City of Palo Alto  7/30/2011 14:51             PDT  7/30/2011 16:55   \n",
       "4  City of Palo Alto  7/30/2011 18:51             PDT  7/30/2011 20:03   \n",
       "\n",
       "  End Time Zone Transaction Date (Pacific Time) Total Duration (hh:mm:ss)  \\\n",
       "0           PDT                 7/29/2011 23:20                   3:03:32   \n",
       "1           PDT                  7/30/2011 0:02                   0:02:06   \n",
       "2           PDT                 7/30/2011 12:34                   4:17:32   \n",
       "3           PDT                 7/30/2011 16:55                   2:03:24   \n",
       "4           PDT                 7/30/2011 20:03                   1:11:24   \n",
       "\n",
       "   ... Driver Postal Code  User ID  County  System S/N Model Number  \\\n",
       "0  ...            95124.0   3284.0     NaN         NaN          NaN   \n",
       "1  ...            94301.0   4169.0     NaN         NaN          NaN   \n",
       "2  ...            94301.0   4169.0     NaN         NaN          NaN   \n",
       "3  ...            94302.0   2545.0     NaN         NaN          NaN   \n",
       "4  ...            94043.0   3765.0     NaN         NaN          NaN   \n",
       "\n",
       "   Station Name        Date  Start Day Start Month Start Year  \n",
       "0      HAMILTON  2011-07-29         29           7       2011  \n",
       "1      HAMILTON  2011-07-30         30           7       2011  \n",
       "2      HAMILTON  2011-07-30         30           7       2011  \n",
       "3      HAMILTON  2011-07-30         30           7       2011  \n",
       "4      HAMILTON  2011-07-30         30           7       2011  \n",
       "\n",
       "[5 rows x 39 columns]"
      ],
      "text/html": [
       "<div>\n",
       "<style scoped>\n",
       "    .dataframe tbody tr th:only-of-type {\n",
       "        vertical-align: middle;\n",
       "    }\n",
       "\n",
       "    .dataframe tbody tr th {\n",
       "        vertical-align: top;\n",
       "    }\n",
       "\n",
       "    .dataframe thead th {\n",
       "        text-align: right;\n",
       "    }\n",
       "</style>\n",
       "<table border=\"1\" class=\"dataframe\">\n",
       "  <thead>\n",
       "    <tr style=\"text-align: right;\">\n",
       "      <th></th>\n",
       "      <th>Unnamed: 0</th>\n",
       "      <th>Plug Name</th>\n",
       "      <th>MAC Address</th>\n",
       "      <th>Org Name</th>\n",
       "      <th>Start Date</th>\n",
       "      <th>Start Time Zone</th>\n",
       "      <th>End Date</th>\n",
       "      <th>End Time Zone</th>\n",
       "      <th>Transaction Date (Pacific Time)</th>\n",
       "      <th>Total Duration (hh:mm:ss)</th>\n",
       "      <th>...</th>\n",
       "      <th>Driver Postal Code</th>\n",
       "      <th>User ID</th>\n",
       "      <th>County</th>\n",
       "      <th>System S/N</th>\n",
       "      <th>Model Number</th>\n",
       "      <th>Station Name</th>\n",
       "      <th>Date</th>\n",
       "      <th>Start Day</th>\n",
       "      <th>Start Month</th>\n",
       "      <th>Start Year</th>\n",
       "    </tr>\n",
       "  </thead>\n",
       "  <tbody>\n",
       "    <tr>\n",
       "      <th>0</th>\n",
       "      <td>0</td>\n",
       "      <td>PALO ALTO CA / HAMILTON #1</td>\n",
       "      <td>000D:6F00:015A:9D76</td>\n",
       "      <td>City of Palo Alto</td>\n",
       "      <td>7/29/2011 20:17</td>\n",
       "      <td>PDT</td>\n",
       "      <td>7/29/2011 23:20</td>\n",
       "      <td>PDT</td>\n",
       "      <td>7/29/2011 23:20</td>\n",
       "      <td>3:03:32</td>\n",
       "      <td>...</td>\n",
       "      <td>95124.0</td>\n",
       "      <td>3284.0</td>\n",
       "      <td>NaN</td>\n",
       "      <td>NaN</td>\n",
       "      <td>NaN</td>\n",
       "      <td>HAMILTON</td>\n",
       "      <td>2011-07-29</td>\n",
       "      <td>29</td>\n",
       "      <td>7</td>\n",
       "      <td>2011</td>\n",
       "    </tr>\n",
       "    <tr>\n",
       "      <th>1</th>\n",
       "      <td>1</td>\n",
       "      <td>PALO ALTO CA / HAMILTON #1</td>\n",
       "      <td>000D:6F00:015A:9D76</td>\n",
       "      <td>City of Palo Alto</td>\n",
       "      <td>7/30/2011 0:00</td>\n",
       "      <td>PDT</td>\n",
       "      <td>7/30/2011 0:02</td>\n",
       "      <td>PDT</td>\n",
       "      <td>7/30/2011 0:02</td>\n",
       "      <td>0:02:06</td>\n",
       "      <td>...</td>\n",
       "      <td>94301.0</td>\n",
       "      <td>4169.0</td>\n",
       "      <td>NaN</td>\n",
       "      <td>NaN</td>\n",
       "      <td>NaN</td>\n",
       "      <td>HAMILTON</td>\n",
       "      <td>2011-07-30</td>\n",
       "      <td>30</td>\n",
       "      <td>7</td>\n",
       "      <td>2011</td>\n",
       "    </tr>\n",
       "    <tr>\n",
       "      <th>2</th>\n",
       "      <td>2</td>\n",
       "      <td>PALO ALTO CA / HAMILTON #1</td>\n",
       "      <td>000D:6F00:015A:9D76</td>\n",
       "      <td>City of Palo Alto</td>\n",
       "      <td>7/30/2011 8:16</td>\n",
       "      <td>PDT</td>\n",
       "      <td>7/30/2011 12:34</td>\n",
       "      <td>PDT</td>\n",
       "      <td>7/30/2011 12:34</td>\n",
       "      <td>4:17:32</td>\n",
       "      <td>...</td>\n",
       "      <td>94301.0</td>\n",
       "      <td>4169.0</td>\n",
       "      <td>NaN</td>\n",
       "      <td>NaN</td>\n",
       "      <td>NaN</td>\n",
       "      <td>HAMILTON</td>\n",
       "      <td>2011-07-30</td>\n",
       "      <td>30</td>\n",
       "      <td>7</td>\n",
       "      <td>2011</td>\n",
       "    </tr>\n",
       "    <tr>\n",
       "      <th>3</th>\n",
       "      <td>3</td>\n",
       "      <td>PALO ALTO CA / HAMILTON #1</td>\n",
       "      <td>000D:6F00:015A:9D76</td>\n",
       "      <td>City of Palo Alto</td>\n",
       "      <td>7/30/2011 14:51</td>\n",
       "      <td>PDT</td>\n",
       "      <td>7/30/2011 16:55</td>\n",
       "      <td>PDT</td>\n",
       "      <td>7/30/2011 16:55</td>\n",
       "      <td>2:03:24</td>\n",
       "      <td>...</td>\n",
       "      <td>94302.0</td>\n",
       "      <td>2545.0</td>\n",
       "      <td>NaN</td>\n",
       "      <td>NaN</td>\n",
       "      <td>NaN</td>\n",
       "      <td>HAMILTON</td>\n",
       "      <td>2011-07-30</td>\n",
       "      <td>30</td>\n",
       "      <td>7</td>\n",
       "      <td>2011</td>\n",
       "    </tr>\n",
       "    <tr>\n",
       "      <th>4</th>\n",
       "      <td>4</td>\n",
       "      <td>PALO ALTO CA / HAMILTON #1</td>\n",
       "      <td>000D:6F00:015A:9D76</td>\n",
       "      <td>City of Palo Alto</td>\n",
       "      <td>7/30/2011 18:51</td>\n",
       "      <td>PDT</td>\n",
       "      <td>7/30/2011 20:03</td>\n",
       "      <td>PDT</td>\n",
       "      <td>7/30/2011 20:03</td>\n",
       "      <td>1:11:24</td>\n",
       "      <td>...</td>\n",
       "      <td>94043.0</td>\n",
       "      <td>3765.0</td>\n",
       "      <td>NaN</td>\n",
       "      <td>NaN</td>\n",
       "      <td>NaN</td>\n",
       "      <td>HAMILTON</td>\n",
       "      <td>2011-07-30</td>\n",
       "      <td>30</td>\n",
       "      <td>7</td>\n",
       "      <td>2011</td>\n",
       "    </tr>\n",
       "  </tbody>\n",
       "</table>\n",
       "<p>5 rows × 39 columns</p>\n",
       "</div>"
      ]
     },
     "execution_count": 5,
     "metadata": {},
     "output_type": "execute_result"
    }
   ],
   "execution_count": 5
  },
  {
   "cell_type": "code",
   "source": [
    "df.describe()"
   ],
   "metadata": {
    "collapsed": false,
    "ExecuteTime": {
     "end_time": "2024-05-06T18:10:10.909243Z",
     "start_time": "2024-05-06T18:10:10.754950Z"
    }
   },
   "id": "aa348739d0b37fec",
   "outputs": [
    {
     "data": {
      "text/plain": [
       "          Unnamed: 0   Energy (kWh)  GHG Savings (kg)  \\\n",
       "count  259411.000000  259411.000000     259411.000000   \n",
       "mean   129707.236790       8.544332          3.588619   \n",
       "std     74886.963478       7.185497          3.017908   \n",
       "min         0.000000       0.010000          0.004000   \n",
       "25%     64853.500000       3.784000          1.589000   \n",
       "50%    129708.000000       6.868920          2.885000   \n",
       "75%    194560.500000      11.458754          4.813000   \n",
       "max    259414.000000      97.360000         40.891000   \n",
       "\n",
       "       Gasoline Savings (gallons)    Port Number       EVSE ID    Postal Code  \\\n",
       "count               259411.000000  259411.000000  1.804640e+05  259411.000000   \n",
       "mean                     1.072313       1.591629  1.462976e+05   94302.315781   \n",
       "std                      0.901780       0.491533  2.429695e+05       1.941666   \n",
       "min                      0.001000       1.000000  3.792000e+03   94301.000000   \n",
       "25%                      0.475000       1.000000  4.358300e+04   94301.000000   \n",
       "50%                      0.862000       2.000000  1.074270e+05   94301.000000   \n",
       "75%                      1.438000       2.000000  1.745590e+05   94303.000000   \n",
       "max                     12.219000       2.000000  5.535441e+06   94306.000000   \n",
       "\n",
       "            Latitude      Longitude            Fee  Plug In Event Id  \\\n",
       "count  259411.000000  259411.000000  259411.000000      2.594110e+05   \n",
       "mean       37.439565    -122.151264       1.097493      1.188646e+08   \n",
       "std         0.009621       0.015382       1.934419      4.057690e+08   \n",
       "min        37.422104    -122.163239       0.000000      1.000000e+00   \n",
       "25%        37.428318    -122.162170       0.000000      1.573000e+03   \n",
       "50%        37.444489    -122.158272       0.000000      3.573000e+03   \n",
       "75%        37.446613    -122.145699       1.640000      6.340000e+03   \n",
       "max        37.449375    -122.112480      84.560000      1.609436e+09   \n",
       "\n",
       "       Driver Postal Code    System S/N      Start Day    Start Month  \\\n",
       "count       251009.000000  1.804640e+05  259411.000000  259411.000000   \n",
       "mean         94170.304885  1.443790e+11      15.702858       6.462012   \n",
       "std           4249.870530  2.483269e+10       8.722418       3.467848   \n",
       "min           1013.000000  1.023100e+11       1.000000       1.000000   \n",
       "25%          94087.000000  1.231100e+11       8.000000       3.000000   \n",
       "50%          94304.000000  1.427410e+11      16.000000       6.000000   \n",
       "75%          94804.000000  1.705410e+11      23.000000      10.000000   \n",
       "max          99354.000000  2.002410e+11      31.000000      12.000000   \n",
       "\n",
       "          Start Year  \n",
       "count  259411.000000  \n",
       "mean     2016.958121  \n",
       "std         1.994262  \n",
       "min      2011.000000  \n",
       "25%      2016.000000  \n",
       "50%      2017.000000  \n",
       "75%      2019.000000  \n",
       "max      2020.000000  "
      ],
      "text/html": [
       "<div>\n",
       "<style scoped>\n",
       "    .dataframe tbody tr th:only-of-type {\n",
       "        vertical-align: middle;\n",
       "    }\n",
       "\n",
       "    .dataframe tbody tr th {\n",
       "        vertical-align: top;\n",
       "    }\n",
       "\n",
       "    .dataframe thead th {\n",
       "        text-align: right;\n",
       "    }\n",
       "</style>\n",
       "<table border=\"1\" class=\"dataframe\">\n",
       "  <thead>\n",
       "    <tr style=\"text-align: right;\">\n",
       "      <th></th>\n",
       "      <th>Unnamed: 0</th>\n",
       "      <th>Energy (kWh)</th>\n",
       "      <th>GHG Savings (kg)</th>\n",
       "      <th>Gasoline Savings (gallons)</th>\n",
       "      <th>Port Number</th>\n",
       "      <th>EVSE ID</th>\n",
       "      <th>Postal Code</th>\n",
       "      <th>Latitude</th>\n",
       "      <th>Longitude</th>\n",
       "      <th>Fee</th>\n",
       "      <th>Plug In Event Id</th>\n",
       "      <th>Driver Postal Code</th>\n",
       "      <th>System S/N</th>\n",
       "      <th>Start Day</th>\n",
       "      <th>Start Month</th>\n",
       "      <th>Start Year</th>\n",
       "    </tr>\n",
       "  </thead>\n",
       "  <tbody>\n",
       "    <tr>\n",
       "      <th>count</th>\n",
       "      <td>259411.000000</td>\n",
       "      <td>259411.000000</td>\n",
       "      <td>259411.000000</td>\n",
       "      <td>259411.000000</td>\n",
       "      <td>259411.000000</td>\n",
       "      <td>1.804640e+05</td>\n",
       "      <td>259411.000000</td>\n",
       "      <td>259411.000000</td>\n",
       "      <td>259411.000000</td>\n",
       "      <td>259411.000000</td>\n",
       "      <td>2.594110e+05</td>\n",
       "      <td>251009.000000</td>\n",
       "      <td>1.804640e+05</td>\n",
       "      <td>259411.000000</td>\n",
       "      <td>259411.000000</td>\n",
       "      <td>259411.000000</td>\n",
       "    </tr>\n",
       "    <tr>\n",
       "      <th>mean</th>\n",
       "      <td>129707.236790</td>\n",
       "      <td>8.544332</td>\n",
       "      <td>3.588619</td>\n",
       "      <td>1.072313</td>\n",
       "      <td>1.591629</td>\n",
       "      <td>1.462976e+05</td>\n",
       "      <td>94302.315781</td>\n",
       "      <td>37.439565</td>\n",
       "      <td>-122.151264</td>\n",
       "      <td>1.097493</td>\n",
       "      <td>1.188646e+08</td>\n",
       "      <td>94170.304885</td>\n",
       "      <td>1.443790e+11</td>\n",
       "      <td>15.702858</td>\n",
       "      <td>6.462012</td>\n",
       "      <td>2016.958121</td>\n",
       "    </tr>\n",
       "    <tr>\n",
       "      <th>std</th>\n",
       "      <td>74886.963478</td>\n",
       "      <td>7.185497</td>\n",
       "      <td>3.017908</td>\n",
       "      <td>0.901780</td>\n",
       "      <td>0.491533</td>\n",
       "      <td>2.429695e+05</td>\n",
       "      <td>1.941666</td>\n",
       "      <td>0.009621</td>\n",
       "      <td>0.015382</td>\n",
       "      <td>1.934419</td>\n",
       "      <td>4.057690e+08</td>\n",
       "      <td>4249.870530</td>\n",
       "      <td>2.483269e+10</td>\n",
       "      <td>8.722418</td>\n",
       "      <td>3.467848</td>\n",
       "      <td>1.994262</td>\n",
       "    </tr>\n",
       "    <tr>\n",
       "      <th>min</th>\n",
       "      <td>0.000000</td>\n",
       "      <td>0.010000</td>\n",
       "      <td>0.004000</td>\n",
       "      <td>0.001000</td>\n",
       "      <td>1.000000</td>\n",
       "      <td>3.792000e+03</td>\n",
       "      <td>94301.000000</td>\n",
       "      <td>37.422104</td>\n",
       "      <td>-122.163239</td>\n",
       "      <td>0.000000</td>\n",
       "      <td>1.000000e+00</td>\n",
       "      <td>1013.000000</td>\n",
       "      <td>1.023100e+11</td>\n",
       "      <td>1.000000</td>\n",
       "      <td>1.000000</td>\n",
       "      <td>2011.000000</td>\n",
       "    </tr>\n",
       "    <tr>\n",
       "      <th>25%</th>\n",
       "      <td>64853.500000</td>\n",
       "      <td>3.784000</td>\n",
       "      <td>1.589000</td>\n",
       "      <td>0.475000</td>\n",
       "      <td>1.000000</td>\n",
       "      <td>4.358300e+04</td>\n",
       "      <td>94301.000000</td>\n",
       "      <td>37.428318</td>\n",
       "      <td>-122.162170</td>\n",
       "      <td>0.000000</td>\n",
       "      <td>1.573000e+03</td>\n",
       "      <td>94087.000000</td>\n",
       "      <td>1.231100e+11</td>\n",
       "      <td>8.000000</td>\n",
       "      <td>3.000000</td>\n",
       "      <td>2016.000000</td>\n",
       "    </tr>\n",
       "    <tr>\n",
       "      <th>50%</th>\n",
       "      <td>129708.000000</td>\n",
       "      <td>6.868920</td>\n",
       "      <td>2.885000</td>\n",
       "      <td>0.862000</td>\n",
       "      <td>2.000000</td>\n",
       "      <td>1.074270e+05</td>\n",
       "      <td>94301.000000</td>\n",
       "      <td>37.444489</td>\n",
       "      <td>-122.158272</td>\n",
       "      <td>0.000000</td>\n",
       "      <td>3.573000e+03</td>\n",
       "      <td>94304.000000</td>\n",
       "      <td>1.427410e+11</td>\n",
       "      <td>16.000000</td>\n",
       "      <td>6.000000</td>\n",
       "      <td>2017.000000</td>\n",
       "    </tr>\n",
       "    <tr>\n",
       "      <th>75%</th>\n",
       "      <td>194560.500000</td>\n",
       "      <td>11.458754</td>\n",
       "      <td>4.813000</td>\n",
       "      <td>1.438000</td>\n",
       "      <td>2.000000</td>\n",
       "      <td>1.745590e+05</td>\n",
       "      <td>94303.000000</td>\n",
       "      <td>37.446613</td>\n",
       "      <td>-122.145699</td>\n",
       "      <td>1.640000</td>\n",
       "      <td>6.340000e+03</td>\n",
       "      <td>94804.000000</td>\n",
       "      <td>1.705410e+11</td>\n",
       "      <td>23.000000</td>\n",
       "      <td>10.000000</td>\n",
       "      <td>2019.000000</td>\n",
       "    </tr>\n",
       "    <tr>\n",
       "      <th>max</th>\n",
       "      <td>259414.000000</td>\n",
       "      <td>97.360000</td>\n",
       "      <td>40.891000</td>\n",
       "      <td>12.219000</td>\n",
       "      <td>2.000000</td>\n",
       "      <td>5.535441e+06</td>\n",
       "      <td>94306.000000</td>\n",
       "      <td>37.449375</td>\n",
       "      <td>-122.112480</td>\n",
       "      <td>84.560000</td>\n",
       "      <td>1.609436e+09</td>\n",
       "      <td>99354.000000</td>\n",
       "      <td>2.002410e+11</td>\n",
       "      <td>31.000000</td>\n",
       "      <td>12.000000</td>\n",
       "      <td>2020.000000</td>\n",
       "    </tr>\n",
       "  </tbody>\n",
       "</table>\n",
       "</div>"
      ]
     },
     "execution_count": 6,
     "metadata": {},
     "output_type": "execute_result"
    }
   ],
   "execution_count": 6
  },
  {
   "metadata": {},
   "cell_type": "markdown",
   "source": "number of uses at each station",
   "id": "a00ee6fb49e10f32"
  },
  {
   "metadata": {
    "jupyter": {
     "is_executing": true
    },
    "ExecuteTime": {
     "start_time": "2024-05-06T18:10:10.910248Z"
    }
   },
   "cell_type": "code",
   "source": [
    "#occurrences of each unique station\n",
    "plt.figure(figsize=(15, 10))  \n",
    "df[\"Station Name\"].value_counts().plot(kind=\"barh\")\n",
    "plt.title('Usage Count of Individual Stations')\n",
    "plt.xlabel('Usage Count')\n",
    "plt.ylabel('Station Name')\n",
    "plt.gca().invert_yaxis()  \n",
    "plt.tight_layout()  \n",
    "plt.show()"
   ],
   "id": "98a53c7ebc489c5c",
   "outputs": [],
   "execution_count": null
  },
  {
   "metadata": {},
   "cell_type": "markdown",
   "source": "Station relative location",
   "id": "5c2bb527a194d035"
  },
  {
   "cell_type": "code",
   "source": [
    "#GeoDataFrame from the CSV data\n",
    "gdf = gpd.GeoDataFrame(df, geometry=gpd.points_from_xy(df['Longitude'], df['Latitude']))\n",
    "#coordinate reference system to WGS84 (EPSG:4326)\n",
    "gdf.set_crs(epsg=4326, inplace=True)\n",
    "\n",
    "fig, ax = plt.subplots(figsize=(10, 10))\n",
    "gdf.plot(ax=ax, marker='o', color='blue', markersize=5)\n",
    "ax.set_title('Locations of Charging Stations')\n",
    "ax.set_xlabel('Longitude')\n",
    "ax.set_ylabel('Latitude')\n",
    "plt.show()"
   ],
   "metadata": {
    "collapsed": false,
    "jupyter": {
     "is_executing": true
    }
   },
   "id": "ce63f5744e672790",
   "outputs": [],
   "execution_count": null
  },
  {
   "metadata": {},
   "cell_type": "markdown",
   "source": "Number of uses of the top 10 users",
   "id": "6cc509f2a3602540"
  },
  {
   "cell_type": "code",
   "source": [
    "# Count the occurrences of each unique user\n",
    "#plt.figure(figsize=(10, 6))\n",
    "df['User ID'].value_counts().head(10).plot(kind='barh', color='skyblue', figsize=(10, 6))\n",
    "plt.title('Top 10 Users by Usage Count')\n",
    "plt.xlabel('Usage Count')\n",
    "plt.ylabel('User ID')\n",
    "plt.gca().invert_yaxis()  \n",
    "plt.tight_layout()  \n",
    "plt.show()"
   ],
   "metadata": {
    "collapsed": false,
    "jupyter": {
     "is_executing": true
    }
   },
   "id": "ad3a86d2b520b689",
   "outputs": [],
   "execution_count": null
  },
  {
   "metadata": {},
   "cell_type": "markdown",
   "source": "total energy charged by top 10 users",
   "id": "4ec44d2eb80b571b"
  },
  {
   "metadata": {
    "jupyter": {
     "is_executing": true
    }
   },
   "cell_type": "code",
   "source": [
    "# Count the occurrences of each unique user\n",
    "#plt.figure(figsize=(10, 6))\n",
    "df[[\"User ID\", \"Energy (kWh)\"]].groupby([\"User ID\"]).sum().sort_values(by=\"Energy (kWh)\", ascending=False).head(10).plot(kind='barh', color='skyblue', figsize=(10, 6))\n",
    "plt.title('Top 10 Users by energy (kWh) consumed')\n",
    "plt.xlabel('kWh')\n",
    "plt.ylabel('User ID')\n",
    "plt.gca().invert_yaxis()  \n",
    "#plt.tight_layout()  \n",
    "plt.show()"
   ],
   "id": "3907a586e31216c6",
   "outputs": [],
   "execution_count": null
  },
  {
   "metadata": {},
   "cell_type": "markdown",
   "source": "# distributions",
   "id": "689e09fcc98591a8"
  },
  {
   "metadata": {
    "jupyter": {
     "is_executing": true
    }
   },
   "cell_type": "code",
   "source": [
    "def secondTransform(x: str) -> int:\n",
    "    h, m, s = x.split(\":\")\n",
    "    return int(h) * 3600 + int(m) * 60 + int(s)"
   ],
   "id": "34ea6a2985c6fb41",
   "outputs": [],
   "execution_count": null
  },
  {
   "metadata": {
    "jupyter": {
     "is_executing": true
    }
   },
   "cell_type": "code",
   "source": [
    "df[\"Total Duration s\"] = df[\"Total Duration (hh:mm:ss)\"].apply(lambda x: secondTransform(x))\n",
    "df[\"Charging Time s\"] = df[\"Charging Time (hh:mm:ss)\"].apply(lambda x: secondTransform(x))\n",
    "df[\"Idle Time s\"] = df['Total Duration s']-df[\"Charging Time s\"]"
   ],
   "id": "fca48376fbb50e90",
   "outputs": [],
   "execution_count": null
  },
  {
   "metadata": {},
   "cell_type": "markdown",
   "source": "Distribution plots for a series of useful metrics",
   "id": "182e075c2135f12c"
  },
  {
   "metadata": {
    "jupyter": {
     "is_executing": true
    }
   },
   "cell_type": "code",
   "source": [
    "interesting_cols = ['Total Duration s',\n",
    "       'Charging Time s','Idle Time s', 'Energy (kWh)', 'GHG Savings (kg)',\n",
    "       'Gasoline Savings (gallons)']\n",
    "\n",
    "for col in interesting_cols:    \n",
    "    df[col].plot.hist(subplots=True, bins = 50, figsize=(15, 10))\n",
    "    plt.title(col)\n",
    "    plt.xlim(left=0)\n",
    "    plt.show()"
   ],
   "id": "f920b0135254f43",
   "outputs": [],
   "execution_count": null
  },
  {
   "metadata": {},
   "cell_type": "markdown",
   "source": [
    "# Statistics by Station\n",
    "sum of metrics for each station"
   ],
   "id": "5d19a356862cbcd7"
  },
  {
   "metadata": {
    "jupyter": {
     "is_executing": true
    }
   },
   "cell_type": "code",
   "source": "df[interesting_cols + ['Station Name']].groupby([\"Station Name\"]).sum().plot.bar(subplots=True, figsize=(12, 15))",
   "id": "c2df7866181fb7c2",
   "outputs": [],
   "execution_count": null
  },
  {
   "metadata": {},
   "cell_type": "markdown",
   "source": "Average of each metric for each station",
   "id": "cf82676ddfc2b9f4"
  },
  {
   "metadata": {
    "jupyter": {
     "is_executing": true
    }
   },
   "cell_type": "code",
   "source": "df[interesting_cols + ['Station Name']].groupby([\"Station Name\"]).mean().plot.bar(subplots=True, figsize=(12, 15))",
   "id": "cf08fdb31fe51a59",
   "outputs": [],
   "execution_count": null
  },
  {
   "metadata": {},
   "cell_type": "markdown",
   "source": "Variance of each metric for each station",
   "id": "63b892de26d30c4c"
  },
  {
   "metadata": {
    "jupyter": {
     "is_executing": true
    }
   },
   "cell_type": "code",
   "source": "df[interesting_cols + ['Station Name']].groupby([\"Station Name\"]).var().plot.bar(subplots=True, figsize=(12, 15))",
   "id": "b29fab3eae293d6b",
   "outputs": [],
   "execution_count": null
  },
  {
   "metadata": {},
   "cell_type": "markdown",
   "source": [
    "# statistics by year\n",
    "sum total of each metric per year"
   ],
   "id": "a4a902169f692ed5"
  },
  {
   "metadata": {
    "jupyter": {
     "is_executing": true
    }
   },
   "cell_type": "code",
   "source": "df[interesting_cols + ['Start Year']].groupby([\"Start Year\"]).sum().plot.bar(subplots=True, figsize=(12, 15))",
   "id": "a2a5058c43ab601e",
   "outputs": [],
   "execution_count": null
  },
  {
   "metadata": {},
   "cell_type": "markdown",
   "source": "Averages of each metric per year",
   "id": "6ea9b33355edaa71"
  },
  {
   "metadata": {
    "jupyter": {
     "is_executing": true
    }
   },
   "cell_type": "code",
   "source": "df[interesting_cols + ['Start Year']].groupby([\"Start Year\"]).mean().plot.bar(subplots=True, figsize=(12, 15))",
   "id": "f57982657ee299f5",
   "outputs": [],
   "execution_count": null
  },
  {
   "metadata": {},
   "cell_type": "markdown",
   "source": "Variances of each metric for each year",
   "id": "cc8ac3dfa0c203bf"
  },
  {
   "metadata": {
    "jupyter": {
     "is_executing": true
    }
   },
   "cell_type": "code",
   "source": "df[interesting_cols + ['Start Year']].groupby([\"Start Year\"]).var().plot.bar(subplots=True, figsize=(12, 15))",
   "id": "dfc24f0c8e624fa2",
   "outputs": [],
   "execution_count": null
  },
  {
   "metadata": {},
   "cell_type": "markdown",
   "source": [
    "# correlation matrices\n",
    "correlation matrix for selected interesting metrics"
   ],
   "id": "4454cb91180ae60c"
  },
  {
   "metadata": {
    "jupyter": {
     "is_executing": true
    }
   },
   "cell_type": "code",
   "source": "sns.heatmap(df[interesting_cols].corr())",
   "id": "b85d160a0eacb091",
   "outputs": [],
   "execution_count": null
  },
  {
   "metadata": {},
   "cell_type": "markdown",
   "source": "Correlation matrix for all variables in the dataset",
   "id": "671e16d90fd8fee1"
  },
  {
   "metadata": {
    "jupyter": {
     "is_executing": true
    }
   },
   "cell_type": "code",
   "source": [
    "fig, ax = plt.subplots(figsize=(15, 15))\n",
    "sns.heatmap(df.corr(), ax=ax)"
   ],
   "id": "b77b266f58b2186a",
   "outputs": [],
   "execution_count": null
  }
 ],
 "metadata": {
  "kernelspec": {
   "display_name": "Python 3",
   "language": "python",
   "name": "python3"
  },
  "language_info": {
   "codemirror_mode": {
    "name": "ipython",
    "version": 2
   },
   "file_extension": ".py",
   "mimetype": "text/x-python",
   "name": "python",
   "nbconvert_exporter": "python",
   "pygments_lexer": "ipython2",
   "version": "2.7.6"
  }
 },
 "nbformat": 4,
 "nbformat_minor": 5
}
