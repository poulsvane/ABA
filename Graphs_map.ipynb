{
 "cells": [
  {
   "cell_type": "code",
   "execution_count": 1,
   "metadata": {},
   "outputs": [
    {
     "name": "stderr",
     "output_type": "stream",
     "text": [
      "/tmp/ipykernel_5433/3145724934.py:10: DtypeWarning: Columns (0,5,8,13,14,15,16,17,20,22,24,25,27,28,30,31,32,34,37) have mixed types. Specify dtype option on import or set low_memory=False.\n",
      "  df2=pd.read_csv('/home/ar/Google/DTU/Courses/Advanced business analytics/ABA - Project /Datasets/Palo_Alto/PALO_ALTO_dataset_compelete.csv')\n"
     ]
    }
   ],
   "source": [
    "import folium\n",
    "import pandas as pd\n",
    "import matplotlib.pyplot as plt\n",
    "import descartes\n",
    "import geopandas as gpd\n",
    "from shapely.geometry import Point, Polygon\n",
    "\n",
    "#df2=pd.read_csv('/home/ar/Google/DTU/Courses/Advanced business analytics/ABA - Project /Datasets/DUndee/Dundee_merged')\n",
    "\n",
    "df2=pd.read_csv('/home/ar/Google/DTU/Courses/Advanced business analytics/ABA - Project /Datasets/Palo_Alto/PALO_ALTO_dataset_compelete.csv')\n"
   ]
  },
  {
   "cell_type": "code",
   "execution_count": 2,
   "metadata": {},
   "outputs": [
    {
     "data": {
      "text/html": [
       "<div>\n",
       "<style scoped>\n",
       "    .dataframe tbody tr th:only-of-type {\n",
       "        vertical-align: middle;\n",
       "    }\n",
       "\n",
       "    .dataframe tbody tr th {\n",
       "        vertical-align: top;\n",
       "    }\n",
       "\n",
       "    .dataframe thead th {\n",
       "        text-align: right;\n",
       "    }\n",
       "</style>\n",
       "<table border=\"1\" class=\"dataframe\">\n",
       "  <thead>\n",
       "    <tr style=\"text-align: right;\">\n",
       "      <th></th>\n",
       "      <th>Plug In Event Id</th>\n",
       "      <th>Start Date</th>\n",
       "      <th>End Date</th>\n",
       "      <th>Total Duration (hh:mm:ss)</th>\n",
       "      <th>Charging Time (hh:mm:ss)</th>\n",
       "      <th>Energy (kWh)</th>\n",
       "      <th>Start SOC</th>\n",
       "      <th>End SOC</th>\n",
       "      <th>User ID</th>\n",
       "      <th>Address 1</th>\n",
       "      <th>...</th>\n",
       "      <th>Ended By</th>\n",
       "      <th>Driver Postal Code</th>\n",
       "      <th>County</th>\n",
       "      <th>System S/N</th>\n",
       "      <th>Model Number</th>\n",
       "      <th>Address 2</th>\n",
       "      <th>Driver Name</th>\n",
       "      <th>Driver Account No.</th>\n",
       "      <th>Transaction ID</th>\n",
       "      <th>Drive Name</th>\n",
       "    </tr>\n",
       "  </thead>\n",
       "  <tbody>\n",
       "    <tr>\n",
       "      <th>0</th>\n",
       "      <td>0093040103_2023-04-01 14:15:03.011380</td>\n",
       "      <td>2023-04-01 07:15:03</td>\n",
       "      <td>2023-04-01 10:21:03</td>\n",
       "      <td>03:06:00</td>\n",
       "      <td>03:03:30</td>\n",
       "      <td>16.875</td>\n",
       "      <td>0.0</td>\n",
       "      <td>0.0</td>\n",
       "      <td>87067.0</td>\n",
       "      <td>1213 Newell Rd, Palo Alto, CA 94303</td>\n",
       "      <td>...</td>\n",
       "      <td>NaN</td>\n",
       "      <td>NaN</td>\n",
       "      <td>NaN</td>\n",
       "      <td>NaN</td>\n",
       "      <td>NaN</td>\n",
       "      <td>NaN</td>\n",
       "      <td>NaN</td>\n",
       "      <td>NaN</td>\n",
       "      <td>NaN</td>\n",
       "      <td>NaN</td>\n",
       "    </tr>\n",
       "    <tr>\n",
       "      <th>1</th>\n",
       "      <td>0093020301_2023-04-01 15:24:09.109136</td>\n",
       "      <td>2023-04-01 08:24:09</td>\n",
       "      <td>2023-04-01 12:00:10</td>\n",
       "      <td>03:36:01.200000</td>\n",
       "      <td>00:00:00</td>\n",
       "      <td>0.0</td>\n",
       "      <td>0.0</td>\n",
       "      <td>0.0</td>\n",
       "      <td>0.0</td>\n",
       "      <td>520 Webster St, Palo Alto, CA 94301</td>\n",
       "      <td>...</td>\n",
       "      <td>NaN</td>\n",
       "      <td>NaN</td>\n",
       "      <td>NaN</td>\n",
       "      <td>NaN</td>\n",
       "      <td>NaN</td>\n",
       "      <td>NaN</td>\n",
       "      <td>NaN</td>\n",
       "      <td>NaN</td>\n",
       "      <td>NaN</td>\n",
       "      <td>NaN</td>\n",
       "    </tr>\n",
       "    <tr>\n",
       "      <th>2</th>\n",
       "      <td>0093020302_2023-04-01 15:33:54.239759</td>\n",
       "      <td>2023-04-01 08:33:55</td>\n",
       "      <td>2023-04-01 14:02:46</td>\n",
       "      <td>05:28:51</td>\n",
       "      <td>02:19:30</td>\n",
       "      <td>14.578</td>\n",
       "      <td>0.0</td>\n",
       "      <td>0.0</td>\n",
       "      <td>53319.0</td>\n",
       "      <td>520 Webster St, Palo Alto, CA 94301</td>\n",
       "      <td>...</td>\n",
       "      <td>NaN</td>\n",
       "      <td>NaN</td>\n",
       "      <td>NaN</td>\n",
       "      <td>NaN</td>\n",
       "      <td>NaN</td>\n",
       "      <td>NaN</td>\n",
       "      <td>NaN</td>\n",
       "      <td>NaN</td>\n",
       "      <td>NaN</td>\n",
       "      <td>NaN</td>\n",
       "    </tr>\n",
       "    <tr>\n",
       "      <th>3</th>\n",
       "      <td>0093030204_2023-04-01 15:36:15.437996</td>\n",
       "      <td>2023-04-01 08:36:16</td>\n",
       "      <td>2023-04-01 09:17:45</td>\n",
       "      <td>00:41:28.800000</td>\n",
       "      <td>00:39:29.400000</td>\n",
       "      <td>4.145</td>\n",
       "      <td>0.0</td>\n",
       "      <td>0.0</td>\n",
       "      <td>87823.0</td>\n",
       "      <td>445 Bryant St, Palo Alto, CA 94301</td>\n",
       "      <td>...</td>\n",
       "      <td>NaN</td>\n",
       "      <td>NaN</td>\n",
       "      <td>NaN</td>\n",
       "      <td>NaN</td>\n",
       "      <td>NaN</td>\n",
       "      <td>NaN</td>\n",
       "      <td>NaN</td>\n",
       "      <td>NaN</td>\n",
       "      <td>NaN</td>\n",
       "      <td>NaN</td>\n",
       "    </tr>\n",
       "    <tr>\n",
       "      <th>4</th>\n",
       "      <td>0093040102_2023-04-01 15:48:35.023990</td>\n",
       "      <td>2023-04-01 08:48:36</td>\n",
       "      <td>2023-04-01 11:58:54</td>\n",
       "      <td>03:10:18</td>\n",
       "      <td>02:20:30</td>\n",
       "      <td>7.379</td>\n",
       "      <td>0.0</td>\n",
       "      <td>0.0</td>\n",
       "      <td>10767.0</td>\n",
       "      <td>1213 Newell Rd, Palo Alto, CA 94303</td>\n",
       "      <td>...</td>\n",
       "      <td>NaN</td>\n",
       "      <td>NaN</td>\n",
       "      <td>NaN</td>\n",
       "      <td>NaN</td>\n",
       "      <td>NaN</td>\n",
       "      <td>NaN</td>\n",
       "      <td>NaN</td>\n",
       "      <td>NaN</td>\n",
       "      <td>NaN</td>\n",
       "      <td>NaN</td>\n",
       "    </tr>\n",
       "  </tbody>\n",
       "</table>\n",
       "<p>5 rows × 40 columns</p>\n",
       "</div>"
      ],
      "text/plain": [
       "                        Plug In Event Id           Start Date  \\\n",
       "0  0093040103_2023-04-01 14:15:03.011380  2023-04-01 07:15:03   \n",
       "1  0093020301_2023-04-01 15:24:09.109136  2023-04-01 08:24:09   \n",
       "2  0093020302_2023-04-01 15:33:54.239759  2023-04-01 08:33:55   \n",
       "3  0093030204_2023-04-01 15:36:15.437996  2023-04-01 08:36:16   \n",
       "4  0093040102_2023-04-01 15:48:35.023990  2023-04-01 08:48:36   \n",
       "\n",
       "              End Date Total Duration (hh:mm:ss) Charging Time (hh:mm:ss)  \\\n",
       "0  2023-04-01 10:21:03                  03:06:00                 03:03:30   \n",
       "1  2023-04-01 12:00:10           03:36:01.200000                 00:00:00   \n",
       "2  2023-04-01 14:02:46                  05:28:51                 02:19:30   \n",
       "3  2023-04-01 09:17:45           00:41:28.800000          00:39:29.400000   \n",
       "4  2023-04-01 11:58:54                  03:10:18                 02:20:30   \n",
       "\n",
       "  Energy (kWh)  Start SOC  End SOC  User ID  \\\n",
       "0       16.875        0.0      0.0  87067.0   \n",
       "1          0.0        0.0      0.0      0.0   \n",
       "2       14.578        0.0      0.0  53319.0   \n",
       "3        4.145        0.0      0.0  87823.0   \n",
       "4        7.379        0.0      0.0  10767.0   \n",
       "\n",
       "                             Address 1  ... Ended By  Driver Postal Code  \\\n",
       "0  1213 Newell Rd, Palo Alto, CA 94303  ...      NaN                 NaN   \n",
       "1  520 Webster St, Palo Alto, CA 94301  ...      NaN                 NaN   \n",
       "2  520 Webster St, Palo Alto, CA 94301  ...      NaN                 NaN   \n",
       "3   445 Bryant St, Palo Alto, CA 94301  ...      NaN                 NaN   \n",
       "4  1213 Newell Rd, Palo Alto, CA 94303  ...      NaN                 NaN   \n",
       "\n",
       "   County System S/N Model Number Address 2 Driver Name Driver Account No.  \\\n",
       "0     NaN        NaN          NaN       NaN         NaN                NaN   \n",
       "1     NaN        NaN          NaN       NaN         NaN                NaN   \n",
       "2     NaN        NaN          NaN       NaN         NaN                NaN   \n",
       "3     NaN        NaN          NaN       NaN         NaN                NaN   \n",
       "4     NaN        NaN          NaN       NaN         NaN                NaN   \n",
       "\n",
       "   Transaction ID  Drive Name  \n",
       "0             NaN         NaN  \n",
       "1             NaN         NaN  \n",
       "2             NaN         NaN  \n",
       "3             NaN         NaN  \n",
       "4             NaN         NaN  \n",
       "\n",
       "[5 rows x 40 columns]"
      ]
     },
     "execution_count": 2,
     "metadata": {},
     "output_type": "execute_result"
    }
   ],
   "source": [
    "df2.head()"
   ]
  },
  {
   "cell_type": "code",
   "execution_count": 3,
   "metadata": {},
   "outputs": [
    {
     "name": "stdout",
     "output_type": "stream",
     "text": [
      "[37.4449757  37.44924881 37.4464976  37.444848   37.4434284  37.4221875\n",
      " 37.444572   37.444607   37.443676   37.446373   37.44651    37.446613\n",
      " 37.444489   37.422104   37.422138   37.422169   37.422146   37.422123\n",
      " 37.422119   37.445492   37.445499   37.445496   37.449348   37.443558\n",
      " 37.449375   37.448284   37.448238   37.444359   37.428318   37.427349\n",
      " 37.446583   37.42733    37.426155   37.426182   37.443146   37.443127\n",
      " 37.443378   37.446667   37.446785   37.44669    37.448273   37.444706\n",
      " 37.443344   37.443443   37.443138   37.443211   37.4286     37.428623\n",
      " 37.426228   37.42857    37.426208   37.426178   37.422131   37.422112\n",
      " 37.446651   37.426582   37.426655   37.42667    37.426617   37.426563\n",
      " 37.426598   37.42662    37.426777   37.426537   37.426643   37.426773\n",
      " 37.42672    37.426823   37.426754   37.426746   37.4268     37.426723\n",
      " 37.426022  ]\n"
     ]
    }
   ],
   "source": [
    "\n",
    "df = df2[[\"Address 1\", \"Latitude\", \"Longitude\"]]\n",
    "df = df[df.Latitude <= 45]\n",
    "print(df[\"Latitude\"].unique())\n"
   ]
  },
  {
   "cell_type": "code",
   "execution_count": 4,
   "metadata": {},
   "outputs": [
    {
     "name": "stderr",
     "output_type": "stream",
     "text": [
      "/home/ar/anaconda3/envs/ba_1/lib/python3.8/site-packages/pandas/plotting/_matplotlib/core.py:1258: UserWarning: No data for colormapping provided via 'c'. Parameters 'cmap' will be ignored\n",
      "  scatter = ax.scatter(\n"
     ]
    },
    {
     "data": {
      "text/plain": [
       "<Axes: xlabel='Longitude', ylabel='Latitude'>"
      ]
     },
     "execution_count": 4,
     "metadata": {},
     "output_type": "execute_result"
    },
    {
     "data": {
      "image/png": "[encoded data removed]",
      "text/plain": [
       "<Figure size 640x480 with 1 Axes>"
      ]
     },
     "metadata": {},
     "output_type": "display_data"
    }
   ],
   "source": [
    "df.plot(x=\"Longitude\", y=\"Latitude\", kind=\"scatter\", c=\"blue\",\n",
    "        colormap=\"Blues\")"
   ]
  },
  {
   "cell_type": "code",
   "execution_count": 5,
   "metadata": {},
   "outputs": [],
   "source": [
    "street_map = gpd.read_file('/home/ar/Google/DTU/Courses/Advanced business analytics/ABA - Project /Datasets/data/Cities.shp')\n",
    "crs = {'init':'epsg:4326'}\n",
    "geometry = [Point(xy) for xy in zip(df['Longitude'], df['Latitude'])]\n"
   ]
  },
  {
   "cell_type": "code",
   "execution_count": 6,
   "metadata": {},
   "outputs": [
    {
     "name": "stderr",
     "output_type": "stream",
     "text": [
      "/home/ar/anaconda3/envs/ba_1/lib/python3.8/site-packages/pyproj/crs/crs.py:141: FutureWarning: '+init=<authority>:<code>' syntax is deprecated. '<authority>:<code>' is the preferred initialization method. When making the change, be mindful of axis order changes: https://pyproj4.github.io/pyproj/stable/gotchas.html#axis-order-changes-in-proj-6\n",
      "  in_crs_string = _prepare_from_proj_string(in_crs_string)\n"
     ]
    },
    {
     "data": {
      "text/html": [
       "<div>\n",
       "<style scoped>\n",
       "    .dataframe tbody tr th:only-of-type {\n",
       "        vertical-align: middle;\n",
       "    }\n",
       "\n",
       "    .dataframe tbody tr th {\n",
       "        vertical-align: top;\n",
       "    }\n",
       "\n",
       "    .dataframe thead th {\n",
       "        text-align: right;\n",
       "    }\n",
       "</style>\n",
       "<table border=\"1\" class=\"dataframe\">\n",
       "  <thead>\n",
       "    <tr style=\"text-align: right;\">\n",
       "      <th></th>\n",
       "      <th>Address 1</th>\n",
       "      <th>Latitude</th>\n",
       "      <th>Longitude</th>\n",
       "      <th>geometry</th>\n",
       "    </tr>\n",
       "  </thead>\n",
       "  <tbody>\n",
       "    <tr>\n",
       "      <th>0</th>\n",
       "      <td>1213 Newell Rd, Palo Alto, CA 94303</td>\n",
       "      <td>37.444976</td>\n",
       "      <td>-122.139073</td>\n",
       "      <td>POINT (-122.13907 37.44498)</td>\n",
       "    </tr>\n",
       "    <tr>\n",
       "      <th>1</th>\n",
       "      <td>520 Webster St, Palo Alto, CA 94301</td>\n",
       "      <td>37.449249</td>\n",
       "      <td>-122.157746</td>\n",
       "      <td>POINT (-122.15775 37.44925)</td>\n",
       "    </tr>\n",
       "    <tr>\n",
       "      <th>2</th>\n",
       "      <td>520 Webster St, Palo Alto, CA 94301</td>\n",
       "      <td>37.449249</td>\n",
       "      <td>-122.157746</td>\n",
       "      <td>POINT (-122.15775 37.44925)</td>\n",
       "    </tr>\n",
       "    <tr>\n",
       "      <th>3</th>\n",
       "      <td>445 Bryant St, Palo Alto, CA 94301</td>\n",
       "      <td>37.446498</td>\n",
       "      <td>-122.162392</td>\n",
       "      <td>POINT (-122.16239 37.44650)</td>\n",
       "    </tr>\n",
       "    <tr>\n",
       "      <th>4</th>\n",
       "      <td>1213 Newell Rd, Palo Alto, CA 94303</td>\n",
       "      <td>37.444976</td>\n",
       "      <td>-122.139073</td>\n",
       "      <td>POINT (-122.13907 37.44498)</td>\n",
       "    </tr>\n",
       "  </tbody>\n",
       "</table>\n",
       "</div>"
      ],
      "text/plain": [
       "                             Address 1   Latitude   Longitude  \\\n",
       "0  1213 Newell Rd, Palo Alto, CA 94303  37.444976 -122.139073   \n",
       "1  520 Webster St, Palo Alto, CA 94301  37.449249 -122.157746   \n",
       "2  520 Webster St, Palo Alto, CA 94301  37.449249 -122.157746   \n",
       "3   445 Bryant St, Palo Alto, CA 94301  37.446498 -122.162392   \n",
       "4  1213 Newell Rd, Palo Alto, CA 94303  37.444976 -122.139073   \n",
       "\n",
       "                      geometry  \n",
       "0  POINT (-122.13907 37.44498)  \n",
       "1  POINT (-122.15775 37.44925)  \n",
       "2  POINT (-122.15775 37.44925)  \n",
       "3  POINT (-122.16239 37.44650)  \n",
       "4  POINT (-122.13907 37.44498)  "
      ]
     },
     "execution_count": 6,
     "metadata": {},
     "output_type": "execute_result"
    }
   ],
   "source": [
    "geo_df = gpd.GeoDataFrame(df, #specify our data\n",
    "                          crs=crs, #specify our coordinate reference system\n",
    "                          geometry=geometry) #specify the geometry list we created\n",
    "geo_df.head()"
   ]
  },
  {
   "cell_type": "code",
   "execution_count": 7,
   "metadata": {},
   "outputs": [
    {
     "name": "stderr",
     "output_type": "stream",
     "text": [
      "/tmp/ipykernel_5433/3154237576.py:2: FutureWarning: The geopandas.dataset module is deprecated and will be removed in GeoPandas 1.0. You can get the original 'naturalearth_lowres' data from https://www.naturalearthdata.com/downloads/110m-cultural-vectors/.\n",
      "  gpd.datasets.get_path(\"naturalearth_lowres\"))\n"
     ]
    },
    {
     "data": {
      "text/html": [
       "<div>\n",
       "<style scoped>\n",
       "    .dataframe tbody tr th:only-of-type {\n",
       "        vertical-align: middle;\n",
       "    }\n",
       "\n",
       "    .dataframe tbody tr th {\n",
       "        vertical-align: top;\n",
       "    }\n",
       "\n",
       "    .dataframe thead th {\n",
       "        text-align: right;\n",
       "    }\n",
       "</style>\n",
       "<table border=\"1\" class=\"dataframe\">\n",
       "  <thead>\n",
       "    <tr style=\"text-align: right;\">\n",
       "      <th></th>\n",
       "      <th>pop_est</th>\n",
       "      <th>continent</th>\n",
       "      <th>name</th>\n",
       "      <th>iso_a3</th>\n",
       "      <th>gdp_md_est</th>\n",
       "      <th>geometry</th>\n",
       "    </tr>\n",
       "  </thead>\n",
       "  <tbody>\n",
       "    <tr>\n",
       "      <th>0</th>\n",
       "      <td>889953.0</td>\n",
       "      <td>Oceania</td>\n",
       "      <td>Fiji</td>\n",
       "      <td>FJI</td>\n",
       "      <td>5496</td>\n",
       "      <td>MULTIPOLYGON (((180.00000 -16.06713, 180.00000...</td>\n",
       "    </tr>\n",
       "    <tr>\n",
       "      <th>1</th>\n",
       "      <td>58005463.0</td>\n",
       "      <td>Africa</td>\n",
       "      <td>Tanzania</td>\n",
       "      <td>TZA</td>\n",
       "      <td>63177</td>\n",
       "      <td>POLYGON ((33.90371 -0.95000, 34.07262 -1.05982...</td>\n",
       "    </tr>\n",
       "    <tr>\n",
       "      <th>2</th>\n",
       "      <td>603253.0</td>\n",
       "      <td>Africa</td>\n",
       "      <td>W. Sahara</td>\n",
       "      <td>ESH</td>\n",
       "      <td>907</td>\n",
       "      <td>POLYGON ((-8.66559 27.65643, -8.66512 27.58948...</td>\n",
       "    </tr>\n",
       "    <tr>\n",
       "      <th>3</th>\n",
       "      <td>37589262.0</td>\n",
       "      <td>North America</td>\n",
       "      <td>Canada</td>\n",
       "      <td>CAN</td>\n",
       "      <td>1736425</td>\n",
       "      <td>MULTIPOLYGON (((-122.84000 49.00000, -122.9742...</td>\n",
       "    </tr>\n",
       "    <tr>\n",
       "      <th>4</th>\n",
       "      <td>328239523.0</td>\n",
       "      <td>North America</td>\n",
       "      <td>United States of America</td>\n",
       "      <td>USA</td>\n",
       "      <td>21433226</td>\n",
       "      <td>MULTIPOLYGON (((-122.84000 49.00000, -120.0000...</td>\n",
       "    </tr>\n",
       "  </tbody>\n",
       "</table>\n",
       "</div>"
      ],
      "text/plain": [
       "       pop_est      continent                      name iso_a3  gdp_md_est  \\\n",
       "0     889953.0        Oceania                      Fiji    FJI        5496   \n",
       "1   58005463.0         Africa                  Tanzania    TZA       63177   \n",
       "2     603253.0         Africa                 W. Sahara    ESH         907   \n",
       "3   37589262.0  North America                    Canada    CAN     1736425   \n",
       "4  328239523.0  North America  United States of America    USA    21433226   \n",
       "\n",
       "                                            geometry  \n",
       "0  MULTIPOLYGON (((180.00000 -16.06713, 180.00000...  \n",
       "1  POLYGON ((33.90371 -0.95000, 34.07262 -1.05982...  \n",
       "2  POLYGON ((-8.66559 27.65643, -8.66512 27.58948...  \n",
       "3  MULTIPOLYGON (((-122.84000 49.00000, -122.9742...  \n",
       "4  MULTIPOLYGON (((-122.84000 49.00000, -120.0000...  "
      ]
     },
     "execution_count": 7,
     "metadata": {},
     "output_type": "execute_result"
    }
   ],
   "source": [
    "countries = gpd.read_file(\n",
    "               gpd.datasets.get_path(\"naturalearth_lowres\"))\n",
    "countries.head()\n"
   ]
  },
  {
   "cell_type": "code",
   "execution_count": 13,
   "metadata": {},
   "outputs": [
    {
     "name": "stderr",
     "output_type": "stream",
     "text": [
      "/home/ar/anaconda3/envs/ba_1/lib/python3.8/site-packages/pandas/plotting/_matplotlib/core.py:1258: UserWarning: No data for colormapping provided via 'c'. Parameters 'cmap' will be ignored\n",
      "  scatter = ax.scatter(\n"
     ]
    },
    {
     "data": {
      "image/png": "[encoded data removed]",
      "text/plain": [
       "<Figure size 800x600 with 1 Axes>"
      ]
     },
     "metadata": {},
     "output_type": "display_data"
    }
   ],
   "source": [
    "# initialize an axis\n",
    "fig, ax = plt.subplots(figsize=(8,6))\n",
    "countries[countries[\"name\"] == \"United States of America\"].plot(color=\"lightgrey\",\n",
    "                                                 ax=ax)\n",
    "# df.plot(x=\"Longitude\", y=\"Latitude\", kind=\"scatter\", c=\"blue\",\n",
    "#         colormap=\"Blues\")\n",
    "# plot points\n",
    "df.plot(x=\"Longitude\", y=\"Latitude\", kind=\"scatter\", \n",
    "        c=\"blue\", colormap=\"Blues\", \n",
    "        ax=ax)\n",
    "#ax.grid(b=True, alpha=0.5)\n",
    "plt.show()"
   ]
  },
  {
   "cell_type": "code",
   "execution_count": null,
   "metadata": {},
   "outputs": [],
   "source": []
  },
  {
   "cell_type": "code",
   "execution_count": null,
   "metadata": {},
   "outputs": [],
   "source": [
    "fig, ax = plt.subplots(figsize=(15,15))\n",
    "street_map.plot(ax=ax, alpha=0.4, color='grey')\n",
    "geo_df[geo_df['geometry']].plot(ax=ax, \n",
    "                                markersize=20, \n",
    "                                color='blue', \n",
    "                                marker='o', \n",
    "                                label='Neg')"
   ]
  },
  {
   "cell_type": "code",
   "execution_count": null,
   "metadata": {},
   "outputs": [],
   "source": []
  },
  {
   "cell_type": "code",
   "execution_count": null,
   "metadata": {},
   "outputs": [],
   "source": []
  },
  {
   "cell_type": "code",
   "execution_count": null,
   "metadata": {},
   "outputs": [],
   "source": []
  }
 ],
 "metadata": {
  "kernelspec": {
   "display_name": "ba_1",
   "language": "python",
   "name": "python3"
  },
  "language_info": {
   "codemirror_mode": {
    "name": "ipython",
    "version": 3
   },
   "file_extension": ".py",
   "mimetype": "text/x-python",
   "name": "python",
   "nbconvert_exporter": "python",
   "pygments_lexer": "ipython3",
   "version": "3.8.19"
  }
 },
 "nbformat": 4,
 "nbformat_minor": 2
}
